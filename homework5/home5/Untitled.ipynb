{
 "cells": [
  {
   "cell_type": "code",
   "execution_count": 2,
   "id": "aec1c0ab-c69c-4190-b665-13767e613586",
   "metadata": {},
   "outputs": [
    {
     "name": "stdout",
     "output_type": "stream",
     "text": [
      "200 {'probability': 0.5340417283801275}\n"
     ]
    }
   ],
   "source": [
    "import requests\n",
    "\n",
    "url = \"http://localhost:8000/predict\"  # YOUR_URL\n",
    "client = {\n",
    "    \"lead_source\": \"organic_search\",\n",
    "    \"number_of_courses_viewed\": 4,\n",
    "    \"annual_income\": 80304.0\n",
    "}\n",
    "\n",
    "resp = requests.post(url, json=client)\n",
    "print(resp.status_code, resp.json())\n"
   ]
  },
  {
   "cell_type": "code",
   "execution_count": 7,
   "id": "1168342d-3b78-4899-be73-90e2e2971570",
   "metadata": {},
   "outputs": [],
   "source": [
    "# test_api.py\n",
    "import os\n",
    "import time\n",
    "import requests\n",
    "import pytest\n",
    "\n",
    "BASE = os.getenv(\"API_URL\", \"http://localhost:8000\").rstrip(\"/\")\n",
    "HEALTH = f\"{BASE}/health\"\n",
    "PREDICT = f\"{BASE}/predict\"\n",
    "\n",
    "@pytest.fixture(scope=\"session\", autouse=True)\n",
    "def wait_for_api():\n",
    "    deadline = time.time() + 20\n",
    "    while time.time() < deadline:\n",
    "        try:\n",
    "            r = requests.get(HEALTH, timeout=2)\n",
    "            if r.ok:\n",
    "                return\n",
    "        except requests.RequestException:\n",
    "            pass\n",
    "        time.sleep(0.5)\n",
    "    pytest.skip(\"API not available\")\n",
    "\n",
    "def test_predict_ok():\n",
    "    client = {\n",
    "        \"lead_source\": \"organic_search\",\n",
    "        \"number_of_courses_viewed\": 4,\n",
    "        \"annual_income\": 80304.0,\n",
    "    }\n",
    "    r = requests.post(PREDICT, json=client, timeout=5)\n",
    "    assert r.status_code == 200\n",
    "    j = r.json()\n",
    "    print(j)\n",
    "    assert \"probability\" in j\n",
    "    assert isinstance(j[\"probability\"], (int, float))\n"
   ]
  },
  {
   "cell_type": "code",
   "execution_count": 8,
   "id": "3c6a9337-c2d9-4dee-a600-74e7001436df",
   "metadata": {},
   "outputs": [
    {
     "name": "stdout",
     "output_type": "stream",
     "text": [
      "{'probability': 0.5340417283801275}\n"
     ]
    }
   ],
   "source": [
    "test_predict_ok()"
   ]
  },
  {
   "cell_type": "code",
   "execution_count": null,
   "id": "878f851a-10bc-4fe6-a38d-347e58494d35",
   "metadata": {},
   "outputs": [],
   "source": []
  }
 ],
 "metadata": {
  "kernelspec": {
   "display_name": "Python 3 (ipykernel)",
   "language": "python",
   "name": "python3"
  },
  "language_info": {
   "codemirror_mode": {
    "name": "ipython",
    "version": 3
   },
   "file_extension": ".py",
   "mimetype": "text/x-python",
   "name": "python",
   "nbconvert_exporter": "python",
   "pygments_lexer": "ipython3",
   "version": "3.13.5"
  }
 },
 "nbformat": 4,
 "nbformat_minor": 5
}
