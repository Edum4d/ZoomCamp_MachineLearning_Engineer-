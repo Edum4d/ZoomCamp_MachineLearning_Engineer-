{
 "cells": [
  {
   "cell_type": "code",
   "execution_count": 1,
   "id": "eef4ef8d-212f-41d2-898b-73088467e28a",
   "metadata": {},
   "outputs": [
    {
     "name": "stdout",
     "output_type": "stream",
     "text": [
      "Collecting uv\n",
      "  Downloading uv-0.9.5-py3-none-win_amd64.whl.metadata (12 kB)\n",
      "Downloading uv-0.9.5-py3-none-win_amd64.whl (21.4 MB)\n",
      "   ---------------------------------------- 0.0/21.4 MB ? eta -:--:--\n",
      "   --------- ------------------------------ 5.0/21.4 MB 31.9 MB/s eta 0:00:01\n",
      "   ----------------------- ---------------- 12.3/21.4 MB 33.1 MB/s eta 0:00:01\n",
      "   ----------------------------------- ---- 19.1/21.4 MB 33.2 MB/s eta 0:00:01\n",
      "   ---------------------------------------- 21.4/21.4 MB 31.4 MB/s eta 0:00:00\n",
      "Installing collected packages: uv\n",
      "Successfully installed uv-0.9.5\n",
      "Note: you may need to restart the kernel to use updated packages.\n"
     ]
    }
   ],
   "source": [
    "pip install uv"
   ]
  },
  {
   "cell_type": "code",
   "execution_count": 2,
   "id": "519a5f01-f5a5-43cc-bd08-e7c778d39c1e",
   "metadata": {},
   "outputs": [
    {
     "name": "stdout",
     "output_type": "stream",
     "text": [
      "Name: uv\n",
      "Version: 0.9.5\n",
      "Summary: An extremely fast Python package and project manager, written in Rust.\n",
      "Home-page: https://pypi.org/project/uv/\n",
      "Author: \n",
      "Author-email: \"Astral Software Inc.\" <hey@astral.sh>\n",
      "License: \n",
      "Location: C:\\Users\\emahc\\anaconda4\\Lib\\site-packages\n",
      "Requires: \n",
      "Required-by: \n",
      "Note: you may need to restart the kernel to use updated packages.\n"
     ]
    }
   ],
   "source": [
    "pip show uv --version"
   ]
  },
  {
   "cell_type": "code",
   "execution_count": null,
   "id": "81dd7b69-e822-42e0-af57-fa3429baab22",
   "metadata": {},
   "outputs": [],
   "source": []
  }
 ],
 "metadata": {
  "kernelspec": {
   "display_name": "Python 3 (ipykernel)",
   "language": "python",
   "name": "python3"
  },
  "language_info": {
   "codemirror_mode": {
    "name": "ipython",
    "version": 3
   },
   "file_extension": ".py",
   "mimetype": "text/x-python",
   "name": "python",
   "nbconvert_exporter": "python",
   "pygments_lexer": "ipython3",
   "version": "3.13.5"
  }
 },
 "nbformat": 4,
 "nbformat_minor": 5
}
